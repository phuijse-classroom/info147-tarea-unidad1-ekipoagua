{
 "cells": [
  {
   "cell_type": "markdown",
   "metadata": {},
   "source": [
    "# Enunciado"
   ]
  },
  {
   "cell_type": "code",
   "execution_count": 1,
   "metadata": {},
   "outputs": [],
   "source": [
    "%matplotlib inline\n",
    "import matplotlib.pyplot as plt\n",
    "import pandas as pd"
   ]
  },
  {
   "cell_type": "markdown",
   "metadata": {},
   "source": [
    "## Preparación de datos (1.0pt)"
   ]
  },
  {
   "cell_type": "markdown",
   "metadata": {},
   "source": [
    "Explore el archivo `covid19_confirmados.csv` y utilice la función `pd.read_csv` para importarlo como un `DataFrame` considerando las siguientes indicaciones:\n",
    "\n",
    "1. Utilice el nombre de país como índice.\n",
    "1. Elimine las columnas `Lat` y `Long`.\n",
    "1. Use TimeStamps para las columnas asociadas a fechas.\n",
    "1. Reduzca la columna `Province/State`. El DataFrame resultante debe tener los totales a nivel país."
   ]
  },
  {
   "cell_type": "code",
   "execution_count": 2,
   "metadata": {},
   "outputs": [
    {
     "name": "stderr",
     "output_type": "stream",
     "text": [
      "C:\\Users\\casan\\AppData\\Local\\Temp\\ipykernel_16168\\2446061222.py:7: FutureWarning: The default value of numeric_only in DataFrameGroupBy.sum is deprecated. In a future version, numeric_only will default to False. Either specify numeric_only or select only columns which should be valid for the function.\n",
      "  data_confirmados = data.groupby('Country/Region',sort=False).sum()\n"
     ]
    }
   ],
   "source": [
    "data = pd.read_csv('data/covid19_confirmados.csv',\n",
    "                   index_col='Country/Region',\n",
    "                   infer_datetime_format=True,\n",
    "                 )\n",
    "#data.set_index(['Country/Region'],inplace=True).drop(['Lat','Long'])\n",
    "data.drop(['Lat','Long'],axis=1,inplace=True)\n",
    "data_confirmados = data.groupby('Country/Region',sort=False).sum()"
   ]
  },
  {
   "cell_type": "markdown",
   "metadata": {},
   "source": [
    "Explore el archivo `population_by_country_2020.csv` y utilice la función `pd.read_csv` de pandas para importarlo como un `DataFrame`. Utilice el nombre de país como índice principal. \n",
    "\n",
    "Nota: Algunos siglas o nombres podrían no calzar con el `DataFrame` anterior, explore y corrija programaticamente dichos errores."
   ]
  },
  {
   "cell_type": "code",
   "execution_count": 3,
   "metadata": {},
   "outputs": [],
   "source": [
    "d_popu = pd.read_csv('data/poblacion_mundial2020.csv',\n",
    "                   index_col='Country (or dependency)'\n",
    "                 )\n",
    "#data_popu.rename(columns={'Country (or dependency)':'Country/Region'},inplace=True)\n",
    "data_popu = d_popu.rename_axis('Country/Region')"
   ]
  },
  {
   "cell_type": "markdown",
   "metadata": {},
   "source": [
    "Realice un `merge` de los `DataFrame` anteriores. El objetivo es asignar un valor de `Population` a cada elemento del primer `DataFrame`. Indique las filas donde no se puede realizar el `merge` y luego descártelas de su `DataFrame` final."
   ]
  },
  {
   "cell_type": "code",
   "execution_count": 4,
   "metadata": {},
   "outputs": [],
   "source": [
    "data_conf_popu = data_confirmados.merge(data_popu, how='inner', left_index=True, right_index=True)\n",
    "data_conf_popu.drop(['Yearly Change', 'Net Change',\n",
    "       'Density (P/Km²)', 'Land Area (Km²)', 'Migrants (net)',\n",
    "       'Fert. Rate', 'Med. Age', 'Urban Pop %', 'World Share'],\n",
    "        axis=1,\n",
    "        inplace=True)"
   ]
  },
  {
   "cell_type": "markdown",
   "metadata": {},
   "source": [
    "Repita el procedimiento para los archivos `covid19_recuperados.csv` y `covid19_muertes.csv`."
   ]
  },
  {
   "cell_type": "code",
   "execution_count": 5,
   "metadata": {},
   "outputs": [
    {
     "name": "stderr",
     "output_type": "stream",
     "text": [
      "C:\\Users\\casan\\AppData\\Local\\Temp\\ipykernel_16168\\3036467335.py:7: FutureWarning: The default value of numeric_only in DataFrameGroupBy.sum is deprecated. In a future version, numeric_only will default to False. Either specify numeric_only or select only columns which should be valid for the function.\n",
      "  data_muertes = data_muerte.groupby('Country/Region',sort=False).sum()\n",
      "C:\\Users\\casan\\AppData\\Local\\Temp\\ipykernel_16168\\3036467335.py:14: FutureWarning: The default value of numeric_only in DataFrameGroupBy.sum is deprecated. In a future version, numeric_only will default to False. Either specify numeric_only or select only columns which should be valid for the function.\n",
      "  data_recuperados = data_recu.groupby('Country/Region',sort=False).sum()\n"
     ]
    }
   ],
   "source": [
    "# Importar datas\n",
    "data_muerte = pd.read_csv('data/covid19_muertes.csv',\n",
    "                   index_col='Country/Region',\n",
    "                   infer_datetime_format=True,\n",
    "                 )\n",
    "data_muerte.drop(['Lat','Long'],axis=1,inplace=True)\n",
    "data_muertes = data_muerte.groupby('Country/Region',sort=False).sum()\n",
    "\n",
    "data_recu = pd.read_csv('data/covid19_recuperados.csv',\n",
    "                   index_col='Country/Region',\n",
    "                   infer_datetime_format=True,\n",
    "                 )\n",
    "data_recu.drop(['Lat','Long'],axis=1,inplace=True)\n",
    "data_recuperados = data_recu.groupby('Country/Region',sort=False).sum()\n",
    "\n",
    "# Merge muertes-poblacion\n",
    "data_mrt_popu = data_muertes.merge(data_popu, how='inner', left_index=True, right_index=True)\n",
    "data_mrt_popu.drop(['Yearly Change', 'Net Change',\n",
    "       'Density (P/Km²)', 'Land Area (Km²)', 'Migrants (net)',\n",
    "       'Fert. Rate', 'Med. Age', 'Urban Pop %', 'World Share'],\n",
    "        axis=1,\n",
    "        inplace=True)\n",
    "\n",
    "# Merge recuperados-poblacion\n",
    "data_recu_popu = data_recuperados.merge(data_popu, how='inner', left_index=True, right_index=True)\n",
    "data_recu_popu.drop(['Yearly Change', 'Net Change',\n",
    "       'Density (P/Km²)', 'Land Area (Km²)', 'Migrants (net)',\n",
    "       'Fert. Rate', 'Med. Age', 'Urban Pop %', 'World Share'],\n",
    "        axis=1,\n",
    "        inplace=True)"
   ]
  },
  {
   "cell_type": "markdown",
   "metadata": {},
   "source": [
    "## Análisis global (1.5pt)\n",
    "\n",
    "Escriba una función que reciba una fecha y que retorne las siguientes series: \n",
    "\n",
    "1. Tasa de incidencia: Casos confirmados por 100.000 dividido población total.\n",
    "1. Tasa de recuperación: Casos recuperados por 100.000 dividido población total.\n",
    "1. Tasa de mortalidad: Casos decesos por 100.000 dividido población total."
   ]
  },
  {
   "cell_type": "markdown",
   "metadata": {},
   "source": [
    "Ahora, considerando los siguientes dos puntos temporales:\n",
    "\n",
    "- 22 de Enero de 2021.\n",
    "- 22 de Enero de 2022.\n",
    "\n",
    "Muestre los nombres y los valores de los 3 países con:\n",
    "\n",
    "1. La mayor y menor tasa de incidencia, respectivamente.\n",
    "1. La mayor y menor tasa de recuperación, respectivamente.\n",
    "1. La mayor y menor tasa de mortalidad, respectivamente.\n",
    "\n",
    "Muestre también la posición de Chile en el ranking."
   ]
  },
  {
   "cell_type": "code",
   "execution_count": 6,
   "metadata": {},
   "outputs": [],
   "source": [
    "# Tasa de incidencia confirmados:\n",
    "def Tasas(f):\n",
    "    c = (data_conf_popu[f]*100000)/data_conf_popu['Population (2020)']\n",
    "    r = (data_recu_popu[f]*100000)/data_conf_popu['Population (2020)']\n",
    "    m = (data_mrt_popu[f]*100000)/data_conf_popu['Population (2020)']\n",
    "    \n",
    "    return c,r,m"
   ]
  },
  {
   "cell_type": "code",
   "execution_count": 7,
   "metadata": {},
   "outputs": [
    {
     "name": "stdout",
     "output_type": "stream",
     "text": [
      "La mayor tasa de incidencia es de:  Andorra con  12183.16146311799\n",
      "La menor tasa de incidencia es de:  Kiribati con  0.0\n",
      "La mayor tasa de recuperados es de:  Andorra con  11045.8421209259\n",
      "La menor tasa de recuperados es de:  Belgium con  0.0\n",
      "La mayor tasa de muerte es de:  Peru con  299.4413560627495\n",
      "La menor tasa de muerte es de:  Cambodia con  0.0\n"
     ]
    }
   ],
   "source": [
    "# Análisis del 1/22/21:\n",
    "t_incidencia_1_22_21,t_recuperados_1_22_21,t_muerte_1_22_21 = Tasas('1/22/21')\n",
    "t_incidencia_1_22_21_sorted = t_incidencia_1_22_21.sort_values(ascending=False)\n",
    "t_recuperados_1_22_21_sorted = t_recuperados_1_22_21.sort_values(ascending=False)\n",
    "t_muerte_1_22_21_sorted = t_muerte_1_22_21.sort_values(ascending=False)\n",
    "\n",
    "print('La mayor tasa de incidencia es de: ',t_incidencia_1_22_21.idxmax(),'con ', t_incidencia_1_22_21.max())\n",
    "print('La menor tasa de incidencia es de: ',t_incidencia_1_22_21.idxmin(),'con ', t_incidencia_1_22_21.min())\n",
    "\n",
    "print('La mayor tasa de recuperados es de: ',t_recuperados_1_22_21.idxmax(),'con ', t_recuperados_1_22_21.max())\n",
    "print('La menor tasa de recuperados es de: ',t_recuperados_1_22_21.idxmin(),'con ', t_recuperados_1_22_21.min())\n",
    "\n",
    "print('La mayor tasa de muerte es de: ',t_muerte_1_22_21.idxmax(),'con ', t_muerte_1_22_21.max())\n",
    "print('La menor tasa de muerte es de: ',t_muerte_1_22_21.idxmin(),'con ', t_muerte_1_22_21.min())"
   ]
  },
  {
   "cell_type": "code",
   "execution_count": null,
   "metadata": {},
   "outputs": [],
   "source": [
    "# Encontrar posicion de Chile para enero de 2021\n",
    "for p in range(t_incidencia_1_22_21_sorted.size):\n",
    "    if t_incidencia_1_22_21_sorted.index[p] == 'Chile':\n",
    "        print('Chile se encuentra en la posición',p+1,'de las tasas de incidencia más altas para enero de 2021')\n",
    "    if t_recuperados_1_22_21_sorted.index[p] == 'Chile':\n",
    "        print('Chile se encuentra en la posición',p+1,'de las tasas de recuperados más altas para enero de 2021')\n",
    "    if t_muerte_1_22_21_sorted.index[p] == 'Chile':\n",
    "        print('Chile se encuentra en la posición',p+1,'de las tasas de muerte más altas para enero de 2021')"
   ]
  },
  {
   "cell_type": "code",
   "execution_count": 8,
   "metadata": {},
   "outputs": [
    {
     "name": "stdout",
     "output_type": "stream",
     "text": [
      "La mayor tasa de incidencia es de:  Andorra con  42730.34274845705\n",
      "La menor tasa de incidencia es de:  Micronesia con  0.8678220270586908\n",
      "La mayor tasa de recuperados es de:  Afghanistan con  0.0\n",
      "La menor tasa de recuperados es de:  Afghanistan con  0.0\n",
      "La mayor tasa de muerte es de:  Peru con  617.6692790251777\n",
      "La menor tasa de muerte es de:  Holy See con  0.0\n"
     ]
    }
   ],
   "source": [
    "# Análisis del 1/22/22:\n",
    "t_incidencia_1_22_22,t_recuperados_1_22_22,t_muerte_1_22_22 = Tasas('1/22/22')\n",
    "t_incidencia_1_22_22_sorted = t_incidencia_1_22_22.sort_values(ascending=False)\n",
    "t_recuperados_1_22_22_sorted = t_recuperados_1_22_22.sort_values(ascending=False)\n",
    "t_muerte_1_22_22_sorted = t_muerte_1_22_22.sort_values(ascending=False)\n",
    "\n",
    "print('La mayor tasa de incidencia es de: ',t_incidencia_1_22_22.idxmax(),'con ', t_incidencia_1_22_22.max())\n",
    "print('La menor tasa de incidencia es de: ',t_incidencia_1_22_22.idxmin(),'con ', t_incidencia_1_22_22.min())\n",
    "\n",
    "print('La mayor tasa de recuperados es de: ',t_recuperados_1_22_22.idxmax(),'con ', t_recuperados_1_22_22.max())\n",
    "print('La menor tasa de recuperados es de: ',t_recuperados_1_22_22.idxmin(),'con ', t_recuperados_1_22_22.min())\n",
    "\n",
    "print('La mayor tasa de muerte es de: ',t_muerte_1_22_22.idxmax(),'con ', t_muerte_1_22_22.max())\n",
    "print('La menor tasa de muerte es de: ',t_muerte_1_22_22.idxmin(),'con ', t_muerte_1_22_22.min())"
   ]
  },
  {
   "cell_type": "code",
   "execution_count": null,
   "metadata": {},
   "outputs": [],
   "source": [
    "# Encontrar posicion de Chile para enero de 2022\n",
    "for p in range(t_incidencia_1_22_22_sorted.size):\n",
    "    if t_incidencia_1_22_22_sorted.index[p] == 'Chile':\n",
    "        print('Chile se encuentra en la posición',p+1,'de las tasas de incidencia más altas para enero de 2022')\n",
    "    if t_recuperados_1_22_22_sorted.index[p] == 'Chile':\n",
    "        print('Chile se encuentra en la posición',p+1,'de las tasas de recuperados más altas para enero de 2022')\n",
    "    if t_muerte_1_22_22_sorted.index[p] == 'Chile':\n",
    "        print('Chile se encuentra en la posición',p+1,'de las tasas de muerte más altas para enero de 2022')"
   ]
  },
  {
   "cell_type": "markdown",
   "metadata": {},
   "source": [
    "Ahora realice las siguientes gráficas de nube de punto\n",
    "\n",
    "- Tasa de incidencia Enero 2021 versus Tasa de incidencia Enero 2022.\n",
    "- Tasa de mortalidad Enero 2021 versus Tasa de incidencia Enero 2022.\n",
    "\n",
    "En cada una:\n",
    "\n",
    "- Utilice color para demarcar el [continente](https://www.kaggle.com/datasets/statchaitya/country-to-continent) de cada país.\n",
    "- Realice una anotación con el código del pais cercano a su punto: https://country-code.cl/es/.\n",
    "- Utilice un tamaño relativamente más grande para Chile.\n",
    "- Considere las buenas prácticas vistas en clases."
   ]
  },
  {
   "cell_type": "code",
   "execution_count": 9,
   "metadata": {},
   "outputs": [],
   "source": [
    "continentes = pd.read_csv('countryContinent.csv', usecols=['country','continent','code_2'], index_col='country')\n",
    "tablas = continentes.rename_axis('Country/Region')\n",
    "tablas['incidencia 2021'] = t_incidencia_1_22_21\n",
    "tablas['incidencia 2022'] = t_incidencia_1_22_22\n",
    "tablas['mortalidad 2021'] = t_muerte_1_22_21\n",
    "tablas.dropna();"
   ]
  },
  {
   "cell_type": "code",
   "execution_count": 10,
   "metadata": {},
   "outputs": [
    {
     "data": {
      "text/html": [
       "<div>\n",
       "<style scoped>\n",
       "    .dataframe tbody tr th:only-of-type {\n",
       "        vertical-align: middle;\n",
       "    }\n",
       "\n",
       "    .dataframe tbody tr th {\n",
       "        vertical-align: top;\n",
       "    }\n",
       "\n",
       "    .dataframe thead th {\n",
       "        text-align: right;\n",
       "    }\n",
       "</style>\n",
       "<table border=\"1\" class=\"dataframe\">\n",
       "  <thead>\n",
       "    <tr style=\"text-align: right;\">\n",
       "      <th></th>\n",
       "      <th></th>\n",
       "      <th>code_2</th>\n",
       "      <th>incidencia 2021</th>\n",
       "      <th>incidencia 2022</th>\n",
       "      <th>mortalidad 2021</th>\n",
       "    </tr>\n",
       "    <tr>\n",
       "      <th>continent</th>\n",
       "      <th>Country/Region</th>\n",
       "      <th></th>\n",
       "      <th></th>\n",
       "      <th></th>\n",
       "      <th></th>\n",
       "    </tr>\n",
       "  </thead>\n",
       "  <tbody>\n",
       "    <tr>\n",
       "      <th>Asia</th>\n",
       "      <th>Afghanistan</th>\n",
       "      <td>AF</td>\n",
       "      <td>139.434431</td>\n",
       "      <td>408.319744</td>\n",
       "      <td>6.065371</td>\n",
       "    </tr>\n",
       "    <tr>\n",
       "      <th>Europe</th>\n",
       "      <th>Albania</th>\n",
       "      <td>AL</td>\n",
       "      <td>2455.652798</td>\n",
       "      <td>8564.182537</td>\n",
       "      <td>45.286471</td>\n",
       "    </tr>\n",
       "    <tr>\n",
       "      <th>Africa</th>\n",
       "      <th>Algeria</th>\n",
       "      <td>DZ</td>\n",
       "      <td>239.002001</td>\n",
       "      <td>533.223367</td>\n",
       "      <td>6.493186</td>\n",
       "    </tr>\n",
       "    <tr>\n",
       "      <th>Europe</th>\n",
       "      <th>Andorra</th>\n",
       "      <td>AD</td>\n",
       "      <td>12183.161463</td>\n",
       "      <td>42730.342748</td>\n",
       "      <td>120.330715</td>\n",
       "    </tr>\n",
       "    <tr>\n",
       "      <th>Africa</th>\n",
       "      <th>Angola</th>\n",
       "      <td>AO</td>\n",
       "      <td>58.334210</td>\n",
       "      <td>290.329929</td>\n",
       "      <td>1.368367</td>\n",
       "    </tr>\n",
       "    <tr>\n",
       "      <th>...</th>\n",
       "      <th>...</th>\n",
       "      <td>...</td>\n",
       "      <td>...</td>\n",
       "      <td>...</td>\n",
       "      <td>...</td>\n",
       "    </tr>\n",
       "    <tr>\n",
       "      <th>Asia</th>\n",
       "      <th>Uzbekistan</th>\n",
       "      <td>UZ</td>\n",
       "      <td>233.286870</td>\n",
       "      <td>632.719700</td>\n",
       "      <td>1.847888</td>\n",
       "    </tr>\n",
       "    <tr>\n",
       "      <th>Oceania</th>\n",
       "      <th>Vanuatu</th>\n",
       "      <td>VU</td>\n",
       "      <td>0.324320</td>\n",
       "      <td>2.270243</td>\n",
       "      <td>0.000000</td>\n",
       "    </tr>\n",
       "    <tr>\n",
       "      <th>Asia</th>\n",
       "      <th>Yemen</th>\n",
       "      <td>YE</td>\n",
       "      <td>7.075219</td>\n",
       "      <td>35.359394</td>\n",
       "      <td>2.051079</td>\n",
       "    </tr>\n",
       "    <tr>\n",
       "      <th rowspan=\"2\" valign=\"top\">Africa</th>\n",
       "      <th>Zambia</th>\n",
       "      <td>ZM</td>\n",
       "      <td>234.635028</td>\n",
       "      <td>1630.922723</td>\n",
       "      <td>3.302965</td>\n",
       "    </tr>\n",
       "    <tr>\n",
       "      <th>Zimbabwe</th>\n",
       "      <td>ZW</td>\n",
       "      <td>204.855497</td>\n",
       "      <td>1531.426221</td>\n",
       "      <td>6.456475</td>\n",
       "    </tr>\n",
       "  </tbody>\n",
       "</table>\n",
       "<p>165 rows × 4 columns</p>\n",
       "</div>"
      ],
      "text/plain": [
       "                         code_2  incidencia 2021  incidencia 2022  \\\n",
       "continent Country/Region                                            \n",
       "Asia      Afghanistan        AF       139.434431       408.319744   \n",
       "Europe    Albania            AL      2455.652798      8564.182537   \n",
       "Africa    Algeria            DZ       239.002001       533.223367   \n",
       "Europe    Andorra            AD     12183.161463     42730.342748   \n",
       "Africa    Angola             AO        58.334210       290.329929   \n",
       "...                         ...              ...              ...   \n",
       "Asia      Uzbekistan         UZ       233.286870       632.719700   \n",
       "Oceania   Vanuatu            VU         0.324320         2.270243   \n",
       "Asia      Yemen              YE         7.075219        35.359394   \n",
       "Africa    Zambia             ZM       234.635028      1630.922723   \n",
       "          Zimbabwe           ZW       204.855497      1531.426221   \n",
       "\n",
       "                          mortalidad 2021  \n",
       "continent Country/Region                   \n",
       "Asia      Afghanistan            6.065371  \n",
       "Europe    Albania               45.286471  \n",
       "Africa    Algeria                6.493186  \n",
       "Europe    Andorra              120.330715  \n",
       "Africa    Angola                 1.368367  \n",
       "...                                   ...  \n",
       "Asia      Uzbekistan             1.847888  \n",
       "Oceania   Vanuatu                0.000000  \n",
       "Asia      Yemen                  2.051079  \n",
       "Africa    Zambia                 3.302965  \n",
       "          Zimbabwe               6.456475  \n",
       "\n",
       "[165 rows x 4 columns]"
      ]
     },
     "execution_count": 10,
     "metadata": {},
     "output_type": "execute_result"
    }
   ],
   "source": [
    "table_reset_index = tablas.reset_index( level= 0,drop=False,inplace=False)\n",
    "table_reset_index.dropna(inplace=True);\n",
    "table_reset_index.set_index(['continent','Country/Region'],inplace=True)\n",
    "table_reset_index"
   ]
  },
  {
   "cell_type": "code",
   "execution_count": 39,
   "metadata": {},
   "outputs": [
    {
     "data": {
      "image/png": "[encoded data removed]",
      "text/plain": [
       "<Figure size 1000x600 with 1 Axes>"
      ]
     },
     "metadata": {},
     "output_type": "display_data"
    }
   ],
   "source": [
    "idx = pd.IndexSlice\n",
    "table_reset_index.loc[idx['Asia',:],'incidencia 2021']\n",
    "\n",
    "fig, ax = plt.subplots(figsize=(10, 6), tight_layout=True)\n",
    "\n",
    "ax.scatter(x=table_reset_index.loc[idx['Asia',:],'incidencia 2021'],\n",
    "           y=table_reset_index.loc[idx['Asia',:],'incidencia 2022'],s=5,c='r',alpha=0.7,label='Continente Asiático')\n",
    "\n",
    "ax.scatter(x=table_reset_index.loc[idx['Europe',:],'incidencia 2021'],\n",
    "           y=table_reset_index.loc[idx['Europe',:],'incidencia 2022'],s=5,c='b',alpha=0.7,label='Continente Europeo')\n",
    "\n",
    "ax.scatter(x=table_reset_index.loc[idx['Americas',:],'incidencia 2021'],\n",
    "           y=table_reset_index.loc[idx['Americas',:],'incidencia 2022'],s=5,c='k',alpha=0.7,label='Continente Americano')\n",
    "\n",
    "ax.scatter(x=table_reset_index.loc[idx['Oceania',:],'incidencia 2021'],\n",
    "           y=table_reset_index.loc[idx['Oceania',:],'incidencia 2022'],s=5,c='orange',alpha=0.7,label='Continente Oceánico')\n",
    "\n",
    "ax.scatter(x=table_reset_index.loc[idx['Africa',:],'incidencia 2021'],\n",
    "           y=table_reset_index.loc[idx['Africa',:],'incidencia 2022'],s=5,c='g',alpha=0.7,label='Continente Africano')\n",
    "\n",
    "ax.scatter(x=table_reset_index.loc[idx[:,'Chile'],'incidencia 2021'],\n",
    "           y=table_reset_index.loc[idx[:,'Chile'],'incidencia 2022'],s=100,c='magenta',alpha=0.7,label='XILITO')\n",
    "\n",
    "ax.legend();"
   ]
  },
  {
   "cell_type": "markdown",
   "metadata": {},
   "source": [
    "En base a los rankings y gráficas de nube de punto analice y discuta sobre el caso de Chile considerando las siguientes preguntas guía:\n",
    "\n",
    "- ¿A qué países del mundo se parece más?\n",
    "- ¿A qué países de América Latina se parece más?\n",
    "- ¿A qué países de la [OCDE](https://es.wikipedia.org/wiki/Organizaci%C3%B3n_para_la_Cooperaci%C3%B3n_y_el_Desarrollo_Econ%C3%B3micos) se parece más? \n"
   ]
  },
  {
   "cell_type": "code",
   "execution_count": null,
   "metadata": {},
   "outputs": [],
   "source": []
  },
  {
   "cell_type": "markdown",
   "metadata": {},
   "source": [
    "## Análisis comparativo (1.5pt)\n",
    "\n",
    "Construya una interfaz gráfica usando `ipywidgets` y `matplotlib` que permita realizar comparaciones entre las series de tiempo de COVID-19 de dos países seleccionados arbitrariamente. A modo de simplificación considere sólo los países de la [OCDE](https://es.wikipedia.org/wiki/Organizaci%C3%B3n_para_la_Cooperaci%C3%B3n_y_el_Desarrollo_Econ%C3%B3micos). \n",
    "\n",
    "Requerimientos:\n",
    "\n",
    "1. La interfaz debe incluir controles para escoger dos países a partir de una lista.\n",
    "1. La interfaz debe incluir tres [tabs](https://ipywidgets.readthedocs.io/en/latest/examples/Widget%20List.html#Tabs), el primero debe mostrar las series de tiempo de ambos países de los casos confirmados, el segundo la de recuperados y el tercero la de los decesos, respectivamente. Use una leyenda para indicar el nombre de los países.\n",
    "1. La interfaz debe tener un control que permita escoger entre casos acumulados y casos nuevos. Hint: Para los casos nuevos pueden revisar la función [`diff`](https://pandas.pydata.org/pandas-docs/stable/reference/api/pandas.Series.diff.html).\n",
    "1. La interfaz debe tener un control que permita escoger entre valores absolutos y valores relativos (tasas por 100.000 habitantes).\n",
    "1. La interfaz debe tener un control que permita escoger entre valores diarios y valores semanales. Para esto último se recomienda usar `groupby` con una [frecuencia lunes a lunes](https://pandas.pydata.org/pandas-docs/stable/user_guide/timeseries.html#anchored-offsets).\n",
    "    \n",
    "\n"
   ]
  },
  {
   "cell_type": "code",
   "execution_count": null,
   "metadata": {},
   "outputs": [],
   "source": []
  },
  {
   "cell_type": "markdown",
   "metadata": {},
   "source": [
    "## Dashboard interactivo (1.0pt)\n",
    "\n",
    "Implemente un *dashboard web* interactivo a partir de la interfaz desarrollada en el punto anterior utilizando la librería [voila](https://github.com/voila-dashboards/voila). Sirva su interfaz en la nube, para esto puede considerar los servicios gratuitos [binder](https://mybinder.org/) o [heroku](https://www.heroku.com/free). Revise la documentación de voila [con respecto a *deployment* en la nube](https://voila.readthedocs.io/en/stable/deploy.html) y este repositorio con [un ejemplo en base a heroku](https://github.com/voila-dashboards/voila-heroku). \n",
    "\n",
    "Escriba el link de su dashboard web a continuación:"
   ]
  },
  {
   "cell_type": "code",
   "execution_count": null,
   "metadata": {},
   "outputs": [],
   "source": []
  },
  {
   "cell_type": "markdown",
   "metadata": {},
   "source": [
    "## Discusión final (1.0pt)"
   ]
  },
  {
   "cell_type": "markdown",
   "metadata": {},
   "source": [
    "En base a su interfaz:   \n",
    "\n",
    "1. Describa en detalle la situación de Chile con respecto a la evolución temporal de las series de tiempo. Destaque patrones y comportamientos que considere relevantes. Compare lo que observa en las distintas series de tiempo. \n",
    "1. Considerando la evolución a nivel de semana, conteste ¿En qué fechas ocurre un aumento o disminución notoria de los casos? ¿En qué fechas hay máximos y mínimos?\n",
    "1. Considerando métricas que sean relativas compare el caso de Chile contra cinco países de la OCDE seleccionados por ustedes. Destaque semejanzas y diferencias considerando las cantidades y los posibles desfases temporales existentes."
   ]
  },
  {
   "cell_type": "code",
   "execution_count": null,
   "metadata": {},
   "outputs": [],
   "source": []
  }
 ],
 "metadata": {
  "kernelspec": {
   "display_name": "Python 3 (ipykernel)",
   "language": "python",
   "name": "python3"
  },
  "language_info": {
   "codemirror_mode": {
    "name": "ipython",
    "version": 3
   },
   "file_extension": ".py",
   "mimetype": "text/x-python",
   "name": "python",
   "nbconvert_exporter": "python",
   "pygments_lexer": "ipython3",
   "version": "3.10.9"
  },
  "toc": {
   "base_numbering": 1,
   "nav_menu": {},
   "number_sections": true,
   "sideBar": true,
   "skip_h1_title": false,
   "title_cell": "Table of Contents",
   "title_sidebar": "Contents",
   "toc_cell": false,
   "toc_position": {},
   "toc_section_display": true,
   "toc_window_display": false
  }
 },
 "nbformat": 4,
 "nbformat_minor": 2
}
